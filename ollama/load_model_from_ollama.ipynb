{
 "cells": [
  {
   "cell_type": "markdown",
   "id": "11410cc4",
   "metadata": {},
   "source": [
    "## Ollama\n",
    "\n",
    "You need to install\n",
    "```bash\n",
    "pip install ollama\n",
    "```\n",
    "\n",
    "Follow this official documentation to use Ollama with Python: https://github.com/ollama/ollama-python"
   ]
  },
  {
   "cell_type": "markdown",
   "id": "7935bbde",
   "metadata": {},
   "source": [
    "## Basic Usage"
   ]
  },
  {
   "cell_type": "code",
   "execution_count": 1,
   "id": "09e1e30f",
   "metadata": {},
   "outputs": [
    {
     "name": "stdout",
     "output_type": "stream",
     "text": [
      "The sky is blue due to a phenomenon called **Rayleigh scattering**. Here's a breakdown of how it works:\n",
      "\n",
      "**1. Sunlight and its Colors:**\n",
      "\n",
      "* Sunlight appears white, but it's actually made up of all the colors of the rainbow – red, orange, yellow, green, blue, indigo, and violet.\n",
      "\n",
      "**2. Entering the Atmosphere:**\n",
      "\n",
      "* When sunlight enters Earth's atmosphere, it collides with tiny air molecules (mostly nitrogen and oxygen).\n",
      "\n",
      "**3. Rayleigh Scattering:**\n",
      "\n",
      "* **This is the key!** Rayleigh scattering describes how light is scattered by particles that are much smaller than the wavelength of the light.\n",
      "* **Shorter wavelengths scatter more:** Blue and violet light have shorter wavelengths than other colors. Because of this, they are scattered *much* more strongly by these air molecules. Think of it like bouncing a small ball (blue light) off a bumpy surface versus a large ball (red light) rolling over it.\n",
      "\n",
      "**4. Why Blue, Not Violet?**\n",
      "\n",
      "* Violet light is actually scattered even *more* than blue. However, there are a couple of reasons why we see the sky as blue:\n",
      "    * **Sun emits less violet light:** The sun emits slightly less violet light to begin with.\n",
      "    * **Our eyes are more sensitive to blue:** Our eyes are more sensitive to blue light than violet light.\n",
      "\n",
      "\n",
      "**In short:  Blue light gets scattered all over the sky because it's the most easily bumped around by the air molecules.**\n",
      "\n",
      "---\n",
      "\n",
      "**Think of it like this analogy:**\n",
      "\n",
      "Imagine throwing a handful of tiny marbles (blue light) and a handful of larger bouncy balls (red light) at a bumpy surface. The small marbles will bounce off in all directions, while the larger balls will tend to keep going straight.\n",
      "\n",
      "\n",
      "**Resources for Further Learning:**\n",
      "\n",
      "* **NASA - Why is the sky blue?:** [https://science.nasa.gov/sky-observing/why-is-the-sky-blue/](https://science.nasa.gov/sky-observing/why-is-the-sky-blue/)\n",
      "* **National Geographic - Why is the sky blue?:** [https://www.nationalgeographic.com/science/phenomena/sky-blue/](https://www.nationalgeographic.com/science/phenomena/sky-blue/)\n",
      "\n",
      "\n",
      "Do you want me to explain anything in more detail, like:\n",
      "\n",
      "*   What happens at sunset and sunrise?\n",
      "*   How Rayleigh scattering works mathematically?\n",
      "The sky is blue due to a phenomenon called **Rayleigh scattering**. Here's a breakdown of how it works:\n",
      "\n",
      "**1. Sunlight and its Colors:**\n",
      "\n",
      "* Sunlight appears white, but it's actually made up of all the colors of the rainbow – red, orange, yellow, green, blue, indigo, and violet.\n",
      "\n",
      "**2. Entering the Atmosphere:**\n",
      "\n",
      "* When sunlight enters Earth's atmosphere, it collides with tiny air molecules (mostly nitrogen and oxygen).\n",
      "\n",
      "**3. Rayleigh Scattering:**\n",
      "\n",
      "* **This is the key!** Rayleigh scattering describes how light is scattered by particles that are much smaller than the wavelength of the light.\n",
      "* **Shorter wavelengths scatter more:** Blue and violet light have shorter wavelengths than other colors. Because of this, they are scattered *much* more strongly by these air molecules. Think of it like bouncing a small ball (blue light) off a bumpy surface versus a large ball (red light) rolling over it.\n",
      "\n",
      "**4. Why Blue, Not Violet?**\n",
      "\n",
      "* Violet light is actually scattered even *more* than blue. However, there are a couple of reasons why we see the sky as blue:\n",
      "    * **Sun emits less violet light:** The sun emits slightly less violet light to begin with.\n",
      "    * **Our eyes are more sensitive to blue:** Our eyes are more sensitive to blue light than violet light.\n",
      "\n",
      "\n",
      "**In short:  Blue light gets scattered all over the sky because it's the most easily bumped around by the air molecules.**\n",
      "\n",
      "---\n",
      "\n",
      "**Think of it like this analogy:**\n",
      "\n",
      "Imagine throwing a handful of tiny marbles (blue light) and a handful of larger bouncy balls (red light) at a bumpy surface. The small marbles will bounce off in all directions, while the larger balls will tend to keep going straight.\n",
      "\n",
      "\n",
      "**Resources for Further Learning:**\n",
      "\n",
      "* **NASA - Why is the sky blue?:** [https://science.nasa.gov/sky-observing/why-is-the-sky-blue/](https://science.nasa.gov/sky-observing/why-is-the-sky-blue/)\n",
      "* **National Geographic - Why is the sky blue?:** [https://www.nationalgeographic.com/science/phenomena/sky-blue/](https://www.nationalgeographic.com/science/phenomena/sky-blue/)\n",
      "\n",
      "\n",
      "Do you want me to explain anything in more detail, like:\n",
      "\n",
      "*   What happens at sunset and sunrise?\n",
      "*   How Rayleigh scattering works mathematically?\n"
     ]
    }
   ],
   "source": [
    "from ollama import chat\n",
    "from ollama import ChatResponse\n",
    "\n",
    "response: ChatResponse = chat(model='gemma3:4b', messages=[\n",
    "  {\n",
    "    'role': 'user',\n",
    "    'content': 'Why is the sky blue?',\n",
    "  },\n",
    "])\n",
    "print(response['message']['content'])\n",
    "# or access fields directly from the response object\n",
    "print(response.message.content)"
   ]
  },
  {
   "cell_type": "markdown",
   "id": "5f2e4d75",
   "metadata": {},
   "source": [
    "## Streaming Response"
   ]
  },
  {
   "cell_type": "code",
   "execution_count": 3,
   "id": "ddf8a598",
   "metadata": {},
   "outputs": [
    {
     "name": "stdout",
     "output_type": "stream",
     "text": [
      "That's a fantastic question – and one that’s been pondered for centuries! The reason the sky is blue is due to a phenomenon called **Rayleigh scattering**. Here's a breakdown of how it works:\n",
      "\n",
      "**1. Sunlight is Made of All Colors:**\n",
      "* White sunlight is actually composed of all the colors of the rainbow – red, orange, yellow, green, blue, indigo, and violet. You can see this when light passes through a prism and separates into its constituent colors.\n",
      "\n",
      "**2. Scattering by Air Molecules:**\n",
      "* As sunlight enters the Earth's atmosphere, it collides with tiny air molecules (mostly nitrogen and oxygen).\n",
      "* This collision causes the light to scatter in different directions.\n",
      "\n",
      "**3. Rayleigh Scattering Favors Blue Light:**\n",
      "* **Rayleigh scattering** specifically refers to the scattering of electromagnetic radiation (like sunlight) by particles of a much smaller wavelength. \n",
      "* Blue and violet light have shorter wavelengths than other colors. Because of this, they are scattered *much* more strongly by the air molecules than red and orange light, which have longer wavelengths. Think of it like this: shorter wavelengths are like little waves bumping into obstacles and bouncing around more easily.\n",
      "\n",
      "**4. Why Not Violet?**\n",
      "* While violet light is scattered even more than blue light, our eyes are more sensitive to blue. Also, the sun emits slightly less violet light, and some of the violet light gets absorbed by the upper atmosphere. \n",
      "\n",
      "**In simpler terms:** The blue light gets bounced around all over the sky, making it appear to come from everywhere.\n",
      "\n",
      "\n",
      "**Think of it like this analogy:** Imagine throwing a handful of tiny marbles (blue light) and larger, heavier balls (red light) at a bumpy surface. The small marbles would bounce off in all directions, while the large balls would tend to keep going in a more straight line.\n",
      "\n",
      "\n",
      "**Resources for further learning:**\n",
      "\n",
      "* **NASA:** [https://science.nasa.gov/sky-science/why-is-the-sky-blue/](https://science.nasa.gov/sky-science/why-is-the-sky-blue/)\n",
      "* **Wikipedia:** [https://en.wikipedia.org/wiki/Rayleigh_scattering](https://en.wikipedia.org/wiki/Rayleigh_scattering)\n",
      "\n",
      "\n",
      "Do you want to know about:\n",
      "\n",
      "*   Why sunsets are red?\n",
      "*   How this relates to other planets?"
     ]
    }
   ],
   "source": [
    "from ollama import chat\n",
    "\n",
    "stream = chat(\n",
    "    model='gemma3:4b',\n",
    "    messages=[{'role': 'user', 'content': 'Why is the sky blue?'}],\n",
    "    stream=True,\n",
    ")\n",
    "\n",
    "for chunk in stream:\n",
    "  print(chunk['message']['content'], end='', flush=True)"
   ]
  },
  {
   "cell_type": "code",
   "execution_count": null,
   "id": "a7d82aca",
   "metadata": {},
   "outputs": [],
   "source": []
  },
  {
   "cell_type": "code",
   "execution_count": null,
   "id": "f200840d",
   "metadata": {},
   "outputs": [],
   "source": []
  },
  {
   "cell_type": "code",
   "execution_count": null,
   "id": "5beb87b5",
   "metadata": {},
   "outputs": [],
   "source": []
  },
  {
   "cell_type": "code",
   "execution_count": null,
   "id": "17d72030",
   "metadata": {},
   "outputs": [],
   "source": []
  }
 ],
 "metadata": {
  "kernelspec": {
   "display_name": "llm_app",
   "language": "python",
   "name": "python3"
  },
  "language_info": {
   "codemirror_mode": {
    "name": "ipython",
    "version": 3
   },
   "file_extension": ".py",
   "mimetype": "text/x-python",
   "name": "python",
   "nbconvert_exporter": "python",
   "pygments_lexer": "ipython3",
   "version": "3.10.16"
  }
 },
 "nbformat": 4,
 "nbformat_minor": 5
}
